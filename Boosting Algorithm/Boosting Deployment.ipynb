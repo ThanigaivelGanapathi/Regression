{
 "cells": [
  {
   "cell_type": "code",
   "execution_count": 7,
   "id": "2dfefd75-5efa-402c-937f-46eeacd61a4e",
   "metadata": {},
   "outputs": [],
   "source": [
    "import pickle\n",
    "from babel.numbers import format_currency\n",
    "regressor = pickle.load(open(\"Insurance_Boosting_Model.sav\",\"rb\"))"
   ]
  },
  {
   "cell_type": "code",
   "execution_count": 13,
   "id": "f7fd1fe9-a5e5-4dc2-84fc-6d15528ffc01",
   "metadata": {},
   "outputs": [
    {
     "name": "stdin",
     "output_type": "stream",
     "text": [
      "Enter Your Age :  24\n",
      "Enter Your Gender (M / F) :  m\n",
      "Enter Your BMI :  25.5\n",
      "Enter No. of Children, Do you Have :  0\n",
      "Do You Smoke (Y / N) :  n\n"
     ]
    },
    {
     "name": "stderr",
     "output_type": "stream",
     "text": [
      "C:\\Anaconda3\\Lib\\site-packages\\sklearn\\base.py:493: UserWarning: X does not have valid feature names, but GradientBoostingRegressor was fitted with feature names\n",
      "  warnings.warn(\n"
     ]
    },
    {
     "name": "stdout",
     "output_type": "stream",
     "text": [
      "As per you data, your insurance charge is ₹7,172.54\n"
     ]
    }
   ],
   "source": [
    "#User Inputs\n",
    "age = int(input(\"Enter Your Age : \"))\n",
    "gender = input(\"Enter Your Gender (M / F) : \" ) \n",
    "bmi = float(input(\"Enter Your BMI : \" ))\n",
    "children = int(input(\"Enter No. of Children, Do you Have : \"))\n",
    "smoker = input(\"Do You Smoke (Y / N) : \")\n",
    "  \n",
    "#Converting the Nominal data to number\n",
    "gender = 1 if gender.upper() == \"M\" else 0\n",
    "smoker = 1 if smoker.upper() == \"Y\"  else 0  \n",
    " \n",
    "#Predicting the Insurance Charges\n",
    "insurance_charges = round(regressor.predict([[age,gender,bmi,children,smoker]])[0],2)\n",
    "  \n",
    "print(f\"As per you data, your insurance charge is {format_currency(insurance_charges, 'INR', locale='en_IN')}\")"
   ]
  }
 ],
 "metadata": {
  "kernelspec": {
   "display_name": "Python [conda env:base] *",
   "language": "python",
   "name": "conda-base-py"
  },
  "language_info": {
   "codemirror_mode": {
    "name": "ipython",
    "version": 3
   },
   "file_extension": ".py",
   "mimetype": "text/x-python",
   "name": "python",
   "nbconvert_exporter": "python",
   "pygments_lexer": "ipython3",
   "version": "3.12.7"
  }
 },
 "nbformat": 4,
 "nbformat_minor": 5
}
